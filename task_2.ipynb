{
 "cells": [
  {
   "cell_type": "markdown",
   "metadata": {},
   "source": [
    "C помощью методов модуля bs4 узнайте сумму sum_da количества тегов \\<div> и \\<a> на веб-странице ПетрГУ_Википедия.html.\n",
    "\n",
    "Вставьте в ответ строчку кода, в которой с помощью print() передать найденное sum_da."
   ]
  },
  {
   "cell_type": "code",
   "execution_count": 1,
   "metadata": {},
   "outputs": [
    {
     "name": "stdout",
     "output_type": "stream",
     "text": [
      "2119\n"
     ]
    }
   ],
   "source": [
    "from bs4 import BeautifulSoup\n",
    "\n",
    "# Загрузка HTML файла\n",
    "with open(\"ПетрГУ_Википедия.html\", \"r\", encoding=\"utf-8\") as file:\n",
    "    soup = BeautifulSoup(file, \"html.parser\")\n",
    "\n",
    "# Подсчёт количества тегов <div> и <a>\n",
    "count_div = len(soup.find_all(\"div\"))\n",
    "count_a = len(soup.find_all(\"a\"))\n",
    "sum_da = count_div + count_a\n",
    "\n",
    "# Вывод результата\n",
    "print(sum_da)\n"
   ]
  }
 ],
 "metadata": {
  "kernelspec": {
   "display_name": ".venv",
   "language": "python",
   "name": "python3"
  },
  "language_info": {
   "codemirror_mode": {
    "name": "ipython",
    "version": 3
   },
   "file_extension": ".py",
   "mimetype": "text/x-python",
   "name": "python",
   "nbconvert_exporter": "python",
   "pygments_lexer": "ipython3",
   "version": "3.10.11"
  }
 },
 "nbformat": 4,
 "nbformat_minor": 2
}
