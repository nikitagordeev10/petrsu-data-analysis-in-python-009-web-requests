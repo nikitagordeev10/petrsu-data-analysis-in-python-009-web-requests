{
 "cells": [
  {
   "cell_type": "markdown",
   "metadata": {},
   "source": [
    "Используя средства модуля bs4, из сохраненной веб-страницы Карелия_Википедия.html получить имена всех театров РК и wiki-ссылки на них (которые начинаются с /wiki/). Из полученных названий и ссылок составить словарь, в котором ключом является название театра, а значением его wiki-ссылка. В качестве ответа передать wiki-ссылку на “Музыкальный театр Республики Карелия”. \n",
    "\n",
    "В ответ с помощью print() нужно передать то, что находится в кавычках после \"/href=\" (кавычки и информацию о title в ответ вставлять не нужно)."
   ]
  },
  {
   "cell_type": "code",
   "execution_count": 3,
   "metadata": {},
   "outputs": [
    {
     "name": "stdout",
     "output_type": "stream",
     "text": [
      "/wiki/%D0%9C%D1%83%D0%B7%D1%8B%D0%BA%D0%B0%D0%BB%D1%8C%D0%BD%D1%8B%D0%B9_%D1%82%D0%B5%D0%B0%D1%82%D1%80_%D0%A0%D0%B5%D1%81%D0%BF%D1%83%D0%B1%D0%BB%D0%B8%D0%BA%D0%B8_%D0%9A%D0%B0%D1%80%D0%B5%D0%BB%D0%B8%D1%8F\n"
     ]
    }
   ],
   "source": [
    "from bs4 import BeautifulSoup\n",
    "\n",
    "# Загрузка HTML-файла\n",
    "with open(\"Карелия_Википедия.html\", \"r\", encoding=\"utf-8\") as file:\n",
    "    soup = BeautifulSoup(file, \"html.parser\")\n",
    "\n",
    "# Создание словаря театров\n",
    "theaters = {}\n",
    "for link in soup.find_all(\"a\", href=True, title=True):\n",
    "    href = link['href']\n",
    "    title = link['title']\n",
    "    if href.startswith(\"/wiki/\") and \"театр\" in title.lower():\n",
    "        theaters[title] = href\n",
    "\n",
    "# Вывод wiki-ссылки на \"Музыкальный театр Республики Карелия\"\n",
    "print(theaters.get(\"Музыкальный театр Республики Карелия\"))"
   ]
  }
 ],
 "metadata": {
  "kernelspec": {
   "display_name": ".venv",
   "language": "python",
   "name": "python3"
  },
  "language_info": {
   "codemirror_mode": {
    "name": "ipython",
    "version": 3
   },
   "file_extension": ".py",
   "mimetype": "text/x-python",
   "name": "python",
   "nbconvert_exporter": "python",
   "pygments_lexer": "ipython3",
   "version": "3.10.11"
  }
 },
 "nbformat": 4,
 "nbformat_minor": 2
}
