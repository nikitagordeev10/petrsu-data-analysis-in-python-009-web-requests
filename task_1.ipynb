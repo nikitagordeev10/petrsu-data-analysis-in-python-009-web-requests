{
 "cells": [
  {
   "cell_type": "markdown",
   "metadata": {},
   "source": [
    " Вставьте в ответ код программы с реализацией функции get_headers(), в которой выполните GET-запрос на https://httpbin.org/get и получите текст ответа в json-формате. С помощью return функция get_headers() должна возвращать значение из заголовков (“headers”) по ключу “Host”."
   ]
  },
  {
   "cell_type": "code",
   "execution_count": 1,
   "metadata": {},
   "outputs": [],
   "source": [
    "import requests"
   ]
  },
  {
   "cell_type": "code",
   "execution_count": 2,
   "metadata": {},
   "outputs": [
    {
     "data": {
      "text/plain": [
       "'httpbin.org'"
      ]
     },
     "execution_count": 2,
     "metadata": {},
     "output_type": "execute_result"
    }
   ],
   "source": [
    "def get_headers():\n",
    "    # Выполняем GET-запрос на https://httpbin.org/get\n",
    "    response = requests.get(\"https://httpbin.org/get\")\n",
    "    \n",
    "    # Преобразуем текст ответа в JSON-формат\n",
    "    json_response = response.json()\n",
    "    \n",
    "    # Возвращаем значение из заголовков по ключу \"Host\"\n",
    "    return json_response[\"headers\"].get(\"Host\")\n",
    "\n",
    "get_headers()\n"
   ]
  }
 ],
 "metadata": {
  "kernelspec": {
   "display_name": ".venv",
   "language": "python",
   "name": "python3"
  },
  "language_info": {
   "codemirror_mode": {
    "name": "ipython",
    "version": 3
   },
   "file_extension": ".py",
   "mimetype": "text/x-python",
   "name": "python",
   "nbconvert_exporter": "python",
   "pygments_lexer": "ipython3",
   "version": "3.10.11"
  }
 },
 "nbformat": 4,
 "nbformat_minor": 2
}
